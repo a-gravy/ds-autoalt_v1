{
 "cells": [
  {
   "cell_type": "code",
   "execution_count": 1,
   "metadata": {},
   "outputs": [],
   "source": [
    "import os\n",
    "import pandas as pd\n",
    "import numpy as np\n",
    "import pickle\n",
    "import operator\n",
    "import pandas_profiling\n",
    "import matplotlib.pyplot as plt\n",
    "%matplotlib inline    "
   ]
  },
  {
   "cell_type": "markdown",
   "metadata": {},
   "source": [
    "# data exploration - character_list.csv"
   ]
  },
  {
   "cell_type": "code",
   "execution_count": 2,
   "metadata": {},
   "outputs": [
    {
     "data": {
      "text/html": [
       "<div>\n",
       "<style scoped>\n",
       "    .dataframe tbody tr th:only-of-type {\n",
       "        vertical-align: middle;\n",
       "    }\n",
       "\n",
       "    .dataframe tbody tr th {\n",
       "        vertical-align: top;\n",
       "    }\n",
       "\n",
       "    .dataframe thead th {\n",
       "        text-align: right;\n",
       "    }\n",
       "</style>\n",
       "<table border=\"1\" class=\"dataframe\">\n",
       "  <thead>\n",
       "    <tr style=\"text-align: right;\">\n",
       "      <th></th>\n",
       "      <th>キャラマスタ名</th>\n",
       "      <th>シート内キャラID</th>\n",
       "      <th>レベル</th>\n",
       "    </tr>\n",
       "  </thead>\n",
       "  <tbody>\n",
       "    <tr>\n",
       "      <th>0</th>\n",
       "      <td>アンパンマン</td>\n",
       "      <td>KC0002</td>\n",
       "      <td>SS</td>\n",
       "    </tr>\n",
       "    <tr>\n",
       "      <th>1</th>\n",
       "      <td>ウルトラマン</td>\n",
       "      <td>KC0003</td>\n",
       "      <td>SS</td>\n",
       "    </tr>\n",
       "    <tr>\n",
       "      <th>2</th>\n",
       "      <td>おかあさんといっしょ</td>\n",
       "      <td>KC0004</td>\n",
       "      <td>SS</td>\n",
       "    </tr>\n",
       "    <tr>\n",
       "      <th>3</th>\n",
       "      <td>きかんしゃトーマス</td>\n",
       "      <td>KC0005</td>\n",
       "      <td>SS</td>\n",
       "    </tr>\n",
       "    <tr>\n",
       "      <th>4</th>\n",
       "      <td>くまのプーさん</td>\n",
       "      <td>KC0006</td>\n",
       "      <td>SS</td>\n",
       "    </tr>\n",
       "  </tbody>\n",
       "</table>\n",
       "</div>"
      ],
      "text/plain": [
       "      キャラマスタ名 シート内キャラID レベル\n",
       "0      アンパンマン    KC0002  SS\n",
       "1      ウルトラマン    KC0003  SS\n",
       "2  おかあさんといっしょ    KC0004  SS\n",
       "3   きかんしゃトーマス    KC0005  SS\n",
       "4     くまのプーさん    KC0006  SS"
      ]
     },
     "execution_count": 2,
     "metadata": {},
     "output_type": "execute_result"
    }
   ],
   "source": [
    "# remove first 3 rows \n",
    "cl = pd.read_csv(\"../dev_data/character_list.csv\", usecols = ['キャラマスタ名', 'シート内キャラID', 'レベル'])\n",
    "cl.head()"
   ]
  },
  {
   "cell_type": "code",
   "execution_count": 3,
   "metadata": {},
   "outputs": [
    {
     "data": {
      "text/plain": [
       "Index(['キャラマスタ名', 'シート内キャラID', 'レベル'], dtype='object')"
      ]
     },
     "execution_count": 3,
     "metadata": {},
     "output_type": "execute_result"
    }
   ],
   "source": [
    "cl.columns"
   ]
  },
  {
   "cell_type": "code",
   "execution_count": 4,
   "metadata": {},
   "outputs": [
    {
     "data": {
      "text/plain": [
       "array(['SS', '除外', 'A', 'B'], dtype=object)"
      ]
     },
     "execution_count": 4,
     "metadata": {},
     "output_type": "execute_result"
    }
   ],
   "source": [
    "cl['レベル'].unique()"
   ]
  },
  {
   "cell_type": "code",
   "execution_count": 5,
   "metadata": {},
   "outputs": [
    {
     "name": "stdout",
     "output_type": "stream",
     "text": [
      "nb of data in キャラマスタ名 is 405\n",
      "nb of data in シート内キャラID is 405\n",
      "nb of data in レベル is 405\n"
     ]
    }
   ],
   "source": [
    "# should be the same number\n",
    "for col in ['キャラマスタ名', 'シート内キャラID', 'レベル']:\n",
    "    print(f\"nb of data in {col} is {cl[col].notnull().sum()}\")"
   ]
  },
  {
   "cell_type": "code",
   "execution_count": 6,
   "metadata": {},
   "outputs": [
    {
     "data": {
      "text/plain": [
       "除外    271\n",
       "B      55\n",
       "A      44\n",
       "SS     35\n",
       "Name: レベル, dtype: int64"
      ]
     },
     "execution_count": 6,
     "metadata": {},
     "output_type": "execute_result"
    }
   ],
   "source": [
    "cl['レベル'].value_counts()"
   ]
  },
  {
   "cell_type": "code",
   "execution_count": null,
   "metadata": {},
   "outputs": [],
   "source": []
  },
  {
   "cell_type": "markdown",
   "metadata": {},
   "source": [
    "# data exploration - kids_characters_SIDs.csv"
   ]
  },
  {
   "cell_type": "code",
   "execution_count": 7,
   "metadata": {},
   "outputs": [
    {
     "data": {
      "text/html": [
       "<div>\n",
       "<style scoped>\n",
       "    .dataframe tbody tr th:only-of-type {\n",
       "        vertical-align: middle;\n",
       "    }\n",
       "\n",
       "    .dataframe tbody tr th {\n",
       "        vertical-align: top;\n",
       "    }\n",
       "\n",
       "    .dataframe thead th {\n",
       "        text-align: right;\n",
       "    }\n",
       "</style>\n",
       "<table border=\"1\" class=\"dataframe\">\n",
       "  <thead>\n",
       "    <tr style=\"text-align: right;\">\n",
       "      <th></th>\n",
       "      <th>作品公開コード</th>\n",
       "      <th>作品名</th>\n",
       "      <th>キャラクター名</th>\n",
       "      <th>シート内キャラID</th>\n",
       "      <th>キャラレベル</th>\n",
       "    </tr>\n",
       "  </thead>\n",
       "  <tbody>\n",
       "    <tr>\n",
       "      <th>0</th>\n",
       "      <td>SID0002134</td>\n",
       "      <td>愛少女ポリアンナ物語</td>\n",
       "      <td>NaN</td>\n",
       "      <td>NaN</td>\n",
       "      <td>NaN</td>\n",
       "    </tr>\n",
       "    <tr>\n",
       "      <th>1</th>\n",
       "      <td>SID0002135</td>\n",
       "      <td>愛の若草物語</td>\n",
       "      <td>NaN</td>\n",
       "      <td>NaN</td>\n",
       "      <td>NaN</td>\n",
       "    </tr>\n",
       "    <tr>\n",
       "      <th>2</th>\n",
       "      <td>SID0002136</td>\n",
       "      <td>藍より青し</td>\n",
       "      <td>NaN</td>\n",
       "      <td>NaN</td>\n",
       "      <td>NaN</td>\n",
       "    </tr>\n",
       "    <tr>\n",
       "      <th>3</th>\n",
       "      <td>SID0002137</td>\n",
       "      <td>藍より青し～縁～</td>\n",
       "      <td>NaN</td>\n",
       "      <td>NaN</td>\n",
       "      <td>NaN</td>\n",
       "    </tr>\n",
       "    <tr>\n",
       "      <th>4</th>\n",
       "      <td>SID0002138</td>\n",
       "      <td>AURA ～魔竜院光牙最後の闘い～</td>\n",
       "      <td>NaN</td>\n",
       "      <td>NaN</td>\n",
       "      <td>NaN</td>\n",
       "    </tr>\n",
       "  </tbody>\n",
       "</table>\n",
       "</div>"
      ],
      "text/plain": [
       "      作品公開コード                作品名 キャラクター名 シート内キャラID キャラレベル\n",
       "0  SID0002134         愛少女ポリアンナ物語     NaN       NaN    NaN\n",
       "1  SID0002135             愛の若草物語     NaN       NaN    NaN\n",
       "2  SID0002136              藍より青し     NaN       NaN    NaN\n",
       "3  SID0002137           藍より青し～縁～     NaN       NaN    NaN\n",
       "4  SID0002138  AURA ～魔竜院光牙最後の闘い～     NaN       NaN    NaN"
      ]
     },
     "execution_count": 7,
     "metadata": {},
     "output_type": "execute_result"
    }
   ],
   "source": [
    "# remebmer to remove the first line \n",
    "df = pd.read_csv(\"../dev_data/kids_characters_SIDs.csv\", usecols=['作品公開コード', '作品名', 'キャラクター名', 'シート内キャラID', 'キャラレベル'])\n",
    "df.head()"
   ]
  },
  {
   "cell_type": "code",
   "execution_count": 8,
   "metadata": {},
   "outputs": [
    {
     "name": "stdout",
     "output_type": "stream",
     "text": [
      "nb of data in 作品公開コード is 9002\n",
      "nb of data in 作品名 is 9002\n",
      "nb of data in キャラクター名 is 1707\n",
      "nb of data in シート内キャラID is 1694\n",
      "nb of data in キャラレベル is 1694\n"
     ]
    }
   ],
   "source": [
    "# numbers should be the same\n",
    "for col in ['作品公開コード', '作品名', 'キャラクター名', 'シート内キャラID', 'キャラレベル']: \n",
    "    print(f\"nb of data in {col} is {df[col].notnull().sum()}\")"
   ]
  },
  {
   "cell_type": "code",
   "execution_count": 9,
   "metadata": {},
   "outputs": [
    {
     "data": {
      "text/html": [
       "<div>\n",
       "<style scoped>\n",
       "    .dataframe tbody tr th:only-of-type {\n",
       "        vertical-align: middle;\n",
       "    }\n",
       "\n",
       "    .dataframe tbody tr th {\n",
       "        vertical-align: top;\n",
       "    }\n",
       "\n",
       "    .dataframe thead th {\n",
       "        text-align: right;\n",
       "    }\n",
       "</style>\n",
       "<table border=\"1\" class=\"dataframe\">\n",
       "  <thead>\n",
       "    <tr style=\"text-align: right;\">\n",
       "      <th></th>\n",
       "      <th>作品公開コード</th>\n",
       "      <th>作品名</th>\n",
       "      <th>キャラクター名</th>\n",
       "      <th>シート内キャラID</th>\n",
       "      <th>キャラレベル</th>\n",
       "    </tr>\n",
       "  </thead>\n",
       "  <tbody>\n",
       "    <tr>\n",
       "      <th>4524</th>\n",
       "      <td>SID0012700</td>\n",
       "      <td>AKB0048</td>\n",
       "      <td>AKB48</td>\n",
       "      <td>NaN</td>\n",
       "      <td>NaN</td>\n",
       "    </tr>\n",
       "    <tr>\n",
       "      <th>4525</th>\n",
       "      <td>SID0012701</td>\n",
       "      <td>AKB0048 next stage</td>\n",
       "      <td>AKB48</td>\n",
       "      <td>NaN</td>\n",
       "      <td>NaN</td>\n",
       "    </tr>\n",
       "    <tr>\n",
       "      <th>4617</th>\n",
       "      <td>SID0012808</td>\n",
       "      <td>SDガンダム 嵐を呼ぶ学園祭</td>\n",
       "      <td>SDガンダム</td>\n",
       "      <td>NaN</td>\n",
       "      <td>NaN</td>\n",
       "    </tr>\n",
       "    <tr>\n",
       "      <th>4618</th>\n",
       "      <td>SID0012809</td>\n",
       "      <td>SDガンダム 戦国伝 暴終空城の章</td>\n",
       "      <td>SDガンダム</td>\n",
       "      <td>NaN</td>\n",
       "      <td>NaN</td>\n",
       "    </tr>\n",
       "    <tr>\n",
       "      <th>4619</th>\n",
       "      <td>SID0014067</td>\n",
       "      <td>SDガンダムフォース</td>\n",
       "      <td>SDガンダム</td>\n",
       "      <td>NaN</td>\n",
       "      <td>NaN</td>\n",
       "    </tr>\n",
       "    <tr>\n",
       "      <th>4620</th>\n",
       "      <td>SID0056091</td>\n",
       "      <td>SDガンダムワールド ヒーローズ</td>\n",
       "      <td>SDガンダム</td>\n",
       "      <td>NaN</td>\n",
       "      <td>NaN</td>\n",
       "    </tr>\n",
       "    <tr>\n",
       "      <th>4621</th>\n",
       "      <td>SID0058894</td>\n",
       "      <td>SDガンダムワールド 三国創傑伝</td>\n",
       "      <td>SDガンダム</td>\n",
       "      <td>NaN</td>\n",
       "      <td>NaN</td>\n",
       "    </tr>\n",
       "    <tr>\n",
       "      <th>5116</th>\n",
       "      <td>SID0002606</td>\n",
       "      <td>サイボーグ009 超銀河伝説</td>\n",
       "      <td>サイボーグ9</td>\n",
       "      <td>NaN</td>\n",
       "      <td>NaN</td>\n",
       "    </tr>\n",
       "    <tr>\n",
       "      <th>5117</th>\n",
       "      <td>SID0003011</td>\n",
       "      <td>サイボーグ009 THE CYBORG SOLDIER</td>\n",
       "      <td>サイボーグ9</td>\n",
       "      <td>NaN</td>\n",
       "      <td>NaN</td>\n",
       "    </tr>\n",
       "    <tr>\n",
       "      <th>5233</th>\n",
       "      <td>SID0042358</td>\n",
       "      <td>おはよう！スパンク</td>\n",
       "      <td>スパンク</td>\n",
       "      <td>NaN</td>\n",
       "      <td>NaN</td>\n",
       "    </tr>\n",
       "    <tr>\n",
       "      <th>5234</th>\n",
       "      <td>SID0042359</td>\n",
       "      <td>おはよう！スパンク　劇場版</td>\n",
       "      <td>スパンク</td>\n",
       "      <td>NaN</td>\n",
       "      <td>NaN</td>\n",
       "    </tr>\n",
       "    <tr>\n",
       "      <th>5427</th>\n",
       "      <td>SID0002779</td>\n",
       "      <td>ハクション大魔王</td>\n",
       "      <td>ハクション大魔王</td>\n",
       "      <td>NaN</td>\n",
       "      <td>NaN</td>\n",
       "    </tr>\n",
       "    <tr>\n",
       "      <th>5635</th>\n",
       "      <td>SID0058608</td>\n",
       "      <td>プレイモービル　マーラとチャーリーの大冒険</td>\n",
       "      <td>プレイモービル</td>\n",
       "      <td>NaN</td>\n",
       "      <td>NaN</td>\n",
       "    </tr>\n",
       "  </tbody>\n",
       "</table>\n",
       "</div>"
      ],
      "text/plain": [
       "         作品公開コード                          作品名   キャラクター名 シート内キャラID キャラレベル\n",
       "4524  SID0012700                      AKB0048     AKB48       NaN    NaN\n",
       "4525  SID0012701           AKB0048 next stage     AKB48       NaN    NaN\n",
       "4617  SID0012808               SDガンダム 嵐を呼ぶ学園祭    SDガンダム       NaN    NaN\n",
       "4618  SID0012809            SDガンダム 戦国伝 暴終空城の章    SDガンダム       NaN    NaN\n",
       "4619  SID0014067                   SDガンダムフォース    SDガンダム       NaN    NaN\n",
       "4620  SID0056091             SDガンダムワールド ヒーローズ    SDガンダム       NaN    NaN\n",
       "4621  SID0058894             SDガンダムワールド 三国創傑伝    SDガンダム       NaN    NaN\n",
       "5116  SID0002606               サイボーグ009 超銀河伝説    サイボーグ9       NaN    NaN\n",
       "5117  SID0003011  サイボーグ009 THE CYBORG SOLDIER    サイボーグ9       NaN    NaN\n",
       "5233  SID0042358                    おはよう！スパンク      スパンク       NaN    NaN\n",
       "5234  SID0042359                おはよう！スパンク　劇場版      スパンク       NaN    NaN\n",
       "5427  SID0002779                     ハクション大魔王  ハクション大魔王       NaN    NaN\n",
       "5635  SID0058608        プレイモービル　マーラとチャーリーの大冒険   プレイモービル       NaN    NaN"
      ]
     },
     "execution_count": 9,
     "metadata": {},
     "output_type": "execute_result"
    }
   ],
   "source": [
    "df[(df['キャラクター名'].notnull() & df['シート内キャラID'].isnull())]"
   ]
  },
  {
   "cell_type": "code",
   "execution_count": 10,
   "metadata": {},
   "outputs": [
    {
     "name": "stdout",
     "output_type": "stream",
     "text": [
      "Empty DataFrame\n",
      "Columns: [キャラマスタ名, シート内キャラID, レベル]\n",
      "Index: []\n",
      "Empty DataFrame\n",
      "Columns: [キャラマスタ名, シート内キャラID, レベル]\n",
      "Index: []\n",
      "Empty DataFrame\n",
      "Columns: [キャラマスタ名, シート内キャラID, レベル]\n",
      "Index: []\n",
      "Empty DataFrame\n",
      "Columns: [キャラマスタ名, シート内キャラID, レベル]\n",
      "Index: []\n",
      "Empty DataFrame\n",
      "Columns: [キャラマスタ名, シート内キャラID, レベル]\n",
      "Index: []\n",
      "Empty DataFrame\n",
      "Columns: [キャラマスタ名, シート内キャラID, レベル]\n",
      "Index: []\n"
     ]
    }
   ],
   "source": [
    "# it seems the characters with name but without ID are not in character_list\n",
    "for c_name in df[(df['キャラクター名'].notnull() & df['シート内キャラID'].isnull())]['キャラクター名'].unique():\n",
    "    print(cl[cl['キャラマスタ名'] == c_name])"
   ]
  },
  {
   "cell_type": "code",
   "execution_count": 11,
   "metadata": {},
   "outputs": [
    {
     "data": {
      "text/html": [
       "<div>\n",
       "<style scoped>\n",
       "    .dataframe tbody tr th:only-of-type {\n",
       "        vertical-align: middle;\n",
       "    }\n",
       "\n",
       "    .dataframe tbody tr th {\n",
       "        vertical-align: top;\n",
       "    }\n",
       "\n",
       "    .dataframe thead th {\n",
       "        text-align: right;\n",
       "    }\n",
       "</style>\n",
       "<table border=\"1\" class=\"dataframe\">\n",
       "  <thead>\n",
       "    <tr style=\"text-align: right;\">\n",
       "      <th></th>\n",
       "      <th>作品公開コード</th>\n",
       "      <th>作品名</th>\n",
       "      <th>キャラクター名</th>\n",
       "      <th>シート内キャラID</th>\n",
       "      <th>キャラレベル</th>\n",
       "    </tr>\n",
       "  </thead>\n",
       "  <tbody>\n",
       "    <tr>\n",
       "      <th>4527</th>\n",
       "      <td>SID0003144</td>\n",
       "      <td>BLEACH</td>\n",
       "      <td>BLEACH</td>\n",
       "      <td>KC0215</td>\n",
       "      <td>B</td>\n",
       "    </tr>\n",
       "    <tr>\n",
       "      <th>4528</th>\n",
       "      <td>SID0029042</td>\n",
       "      <td>BORUTO-ボルト- NARUTO NEXT GENERATIONS</td>\n",
       "      <td>BORUTO</td>\n",
       "      <td>KC0055</td>\n",
       "      <td>A</td>\n",
       "    </tr>\n",
       "    <tr>\n",
       "      <th>4529</th>\n",
       "      <td>SID0053510</td>\n",
       "      <td>BORUTO -NARUTO THE MOVIE-</td>\n",
       "      <td>BORUTO</td>\n",
       "      <td>KC0055</td>\n",
       "      <td>A</td>\n",
       "    </tr>\n",
       "    <tr>\n",
       "      <th>4532</th>\n",
       "      <td>SID0025580</td>\n",
       "      <td>DAYS</td>\n",
       "      <td>DAYS</td>\n",
       "      <td>KC0356</td>\n",
       "      <td>B</td>\n",
       "    </tr>\n",
       "    <tr>\n",
       "      <th>4533</th>\n",
       "      <td>SID0054283</td>\n",
       "      <td>DAYS　東院学園編</td>\n",
       "      <td>DAYS</td>\n",
       "      <td>KC0356</td>\n",
       "      <td>B</td>\n",
       "    </tr>\n",
       "  </tbody>\n",
       "</table>\n",
       "</div>"
      ],
      "text/plain": [
       "         作品公開コード                                  作品名 キャラクター名 シート内キャラID キャラレベル\n",
       "4527  SID0003144                               BLEACH  BLEACH    KC0215      B\n",
       "4528  SID0029042  BORUTO-ボルト- NARUTO NEXT GENERATIONS  BORUTO    KC0055      A\n",
       "4529  SID0053510            BORUTO -NARUTO THE MOVIE-  BORUTO    KC0055      A\n",
       "4532  SID0025580                                 DAYS    DAYS    KC0356      B\n",
       "4533  SID0054283                           DAYS　東院学園編    DAYS    KC0356      B"
      ]
     },
     "execution_count": 11,
     "metadata": {},
     "output_type": "execute_result"
    }
   ],
   "source": [
    "# remove '除外' character\n",
    "pdf = df.dropna(axis=0, how='any', subset=['キャラレベル'], inplace=False)\n",
    "pdf = pdf[pdf['キャラレベル'] != '除外']\n",
    "pdf.head()"
   ]
  },
  {
   "cell_type": "code",
   "execution_count": 12,
   "metadata": {},
   "outputs": [
    {
     "data": {
      "text/plain": [
       "1385"
      ]
     },
     "execution_count": 12,
     "metadata": {},
     "output_type": "execute_result"
    }
   ],
   "source": [
    "# numbers of SID with キャラレベル != '除外'\n",
    "len(pdf)"
   ]
  },
  {
   "cell_type": "code",
   "execution_count": null,
   "metadata": {},
   "outputs": [],
   "source": []
  },
  {
   "cell_type": "code",
   "execution_count": null,
   "metadata": {},
   "outputs": [],
   "source": []
  },
  {
   "cell_type": "markdown",
   "metadata": {},
   "source": [
    "# make character -> SID mapping table"
   ]
  },
  {
   "cell_type": "code",
   "execution_count": 13,
   "metadata": {},
   "outputs": [
    {
     "data": {
      "text/html": [
       "<div>\n",
       "<style scoped>\n",
       "    .dataframe tbody tr th:only-of-type {\n",
       "        vertical-align: middle;\n",
       "    }\n",
       "\n",
       "    .dataframe tbody tr th {\n",
       "        vertical-align: top;\n",
       "    }\n",
       "\n",
       "    .dataframe thead th {\n",
       "        text-align: right;\n",
       "    }\n",
       "</style>\n",
       "<table border=\"1\" class=\"dataframe\">\n",
       "  <thead>\n",
       "    <tr style=\"text-align: right;\">\n",
       "      <th></th>\n",
       "      <th>キャラクター名</th>\n",
       "      <th>作品公開コード</th>\n",
       "      <th>作品名</th>\n",
       "      <th>シート内キャラID</th>\n",
       "      <th>キャラレベル</th>\n",
       "    </tr>\n",
       "  </thead>\n",
       "  <tbody>\n",
       "    <tr>\n",
       "      <th>0</th>\n",
       "      <td>BLEACH</td>\n",
       "      <td>[SID0003144]</td>\n",
       "      <td>[BLEACH]</td>\n",
       "      <td>[KC0215]</td>\n",
       "      <td>[B]</td>\n",
       "    </tr>\n",
       "    <tr>\n",
       "      <th>1</th>\n",
       "      <td>BORUTO</td>\n",
       "      <td>[SID0029042, SID0053510]</td>\n",
       "      <td>[BORUTO-ボルト- NARUTO NEXT GENERATIONS, BORUTO -...</td>\n",
       "      <td>[KC0055]</td>\n",
       "      <td>[A]</td>\n",
       "    </tr>\n",
       "    <tr>\n",
       "      <th>2</th>\n",
       "      <td>DAYS</td>\n",
       "      <td>[SID0025580, SID0054283]</td>\n",
       "      <td>[DAYS, DAYS　東院学園編]</td>\n",
       "      <td>[KC0356]</td>\n",
       "      <td>[B]</td>\n",
       "    </tr>\n",
       "    <tr>\n",
       "      <th>3</th>\n",
       "      <td>DRAGON QUEST ダイの大冒険</td>\n",
       "      <td>[SID0027069, SID0044873, SID0050918, SID005451...</td>\n",
       "      <td>[ドラゴンクエスト《勇者アベル伝説》, ドラゴンクエスト ダイの大冒険(1991), ドラゴ...</td>\n",
       "      <td>[KC0199]</td>\n",
       "      <td>[B]</td>\n",
       "    </tr>\n",
       "    <tr>\n",
       "      <th>4</th>\n",
       "      <td>EDENS ZERO</td>\n",
       "      <td>[SID0056092]</td>\n",
       "      <td>[EDENS ZERO]</td>\n",
       "      <td>[KC0073]</td>\n",
       "      <td>[A]</td>\n",
       "    </tr>\n",
       "  </tbody>\n",
       "</table>\n",
       "</div>"
      ],
      "text/plain": [
       "               キャラクター名                                            作品公開コード  \\\n",
       "0               BLEACH                                       [SID0003144]   \n",
       "1               BORUTO                           [SID0029042, SID0053510]   \n",
       "2                 DAYS                           [SID0025580, SID0054283]   \n",
       "3  DRAGON QUEST ダイの大冒険  [SID0027069, SID0044873, SID0050918, SID005451...   \n",
       "4           EDENS ZERO                                       [SID0056092]   \n",
       "\n",
       "                                                 作品名 シート内キャラID キャラレベル  \n",
       "0                                           [BLEACH]  [KC0215]    [B]  \n",
       "1  [BORUTO-ボルト- NARUTO NEXT GENERATIONS, BORUTO -...  [KC0055]    [A]  \n",
       "2                                 [DAYS, DAYS　東院学園編]  [KC0356]    [B]  \n",
       "3  [ドラゴンクエスト《勇者アベル伝説》, ドラゴンクエスト ダイの大冒険(1991), ドラゴ...  [KC0199]    [B]  \n",
       "4                                       [EDENS ZERO]  [KC0073]    [A]  "
      ]
     },
     "execution_count": 13,
     "metadata": {},
     "output_type": "execute_result"
    }
   ],
   "source": [
    "# df.groupby('キャラクター名',as_index=False).aggregate(lambda df: \"|\".join(df.unique().tolist()))\n",
    "gdf = pdf.groupby('キャラクター名',as_index=False).aggregate(lambda pdf: pdf.unique().tolist())\n",
    "gdf.head()"
   ]
  },
  {
   "cell_type": "code",
   "execution_count": 14,
   "metadata": {},
   "outputs": [],
   "source": [
    "character_sids_dict = {k:v for k, v in zip(gdf['キャラクター名'], gdf['作品公開コード'])}"
   ]
  },
  {
   "cell_type": "code",
   "execution_count": 14,
   "metadata": {
    "scrolled": false
   },
   "outputs": [],
   "source": [
    "with open(\"kids_character_mapping.pkl\", \"wb\") as fp:   #Pickling\n",
    "    pickle.dump(character_sids_dict, fp)"
   ]
  },
  {
   "cell_type": "code",
   "execution_count": 15,
   "metadata": {},
   "outputs": [],
   "source": [
    "cnt_dict = {}\n",
    "for k, v in zip(gdf['キャラクター名'], gdf['作品公開コード']):\n",
    "    cnt_dict[len(v)] = cnt_dict.setdefault(len(v), []) + [k]"
   ]
  },
  {
   "cell_type": "code",
   "execution_count": 16,
   "metadata": {
    "scrolled": false
   },
   "outputs": [
    {
     "data": {
      "text/plain": [
       "{1: ['BLEACH',\n",
       "  'EDENS ZERO',\n",
       "  'PUI PUI モルカー',\n",
       "  'iiiあいすくりん',\n",
       "  'あひるの空',\n",
       "  'おしりかじり虫',\n",
       "  'のりものまん モービルランドのカークン',\n",
       "  'ふしぎ駄菓子屋 銭天堂',\n",
       "  'カピバラさん',\n",
       "  'キテレツ',\n",
       "  'コラショ',\n",
       "  'スヌーピー',\n",
       "  'スパイダーマン',\n",
       "  'タンタン',\n",
       "  'バッドばつ丸',\n",
       "  'パウ・パトロール',\n",
       "  'フィン＆ジェイク',\n",
       "  'ブラッククローバー',\n",
       "  'ペッパピッグ＆パジャマスク-',\n",
       "  'ペネロペ',\n",
       "  'マジカパーティー',\n",
       "  'ミュークルドリーミー',\n",
       "  'レイトン教授',\n",
       "  '宇宙なんちゃら こてつくん',\n",
       "  '斉木楠雄のΨ難'],\n",
       " 2: ['BORUTO',\n",
       "  'DAYS',\n",
       "  'SONIC',\n",
       "  'おじゃる丸',\n",
       "  'おとうさんといっしょ',\n",
       "  'かいじゅうステップ\\u3000ワンダバダ',\n",
       "  'ちびまる子ちゃん',\n",
       "  'ぼのぼの',\n",
       "  'ウサハナ',\n",
       "  'カンフー・パンダ',\n",
       "  'シナモン',\n",
       "  'シャーマンキング',\n",
       "  'スポンジ・ボブ',\n",
       "  'ティニー',\n",
       "  'ドゲンジャーズ',\n",
       "  'モンスターズインク',\n",
       "  'ワールドトリガー',\n",
       "  '炎炎ノ消防隊',\n",
       "  'Ｄｒ．ＳＴＯＮＥ'],\n",
       " 3: ['HUNTER×HUNTER',\n",
       "  'おさるのジョージ',\n",
       "  'おしりたんてい',\n",
       "  'はなかっぱ',\n",
       "  'アナと雪の女王',\n",
       "  'チャギントン',\n",
       "  'ムーミン',\n",
       "  'リトルツインスターズ(キキ＆ララ)',\n",
       "  'ルルロロ'],\n",
       " 4: ['カードキャプターさくら',\n",
       "  'キューティーハニー',\n",
       "  'タマ＆フレンズ',\n",
       "  'ダイヤのA',\n",
       "  'デュエル･マスターズ',\n",
       "  'パズドラ',\n",
       "  'ミッフィー',\n",
       "  'ミニオンズ',\n",
       "  '少年アシベ ',\n",
       "  '幽☆遊☆白書',\n",
       "  '暗殺教室'],\n",
       " 5: ['FAIRY TAIL',\n",
       "  'WASIMO',\n",
       "  'あたしンち',\n",
       "  'みいつけた！',\n",
       "  'るろうに剣心－明治剣客浪漫譚－',\n",
       "  'コボちゃん',\n",
       "  'トイストーリー',\n",
       "  'マイメロディ',\n",
       "  'ミッキーマウス',\n",
       "  '天才バカボン'],\n",
       " 6: ['DRAGON QUEST ダイの大冒険', 'SLAM DUNK', 'ウサビッチ'],\n",
       " 7: ['おそ松くん',\n",
       "  'おジャ魔女どれみ',\n",
       "  'くまのプーさん',\n",
       "  'けろけろけろっぴ',\n",
       "  'リロ＆スティッチ',\n",
       "  '七つの大罪',\n",
       "  '銀河鉄道999'],\n",
       " 8: ['ハイキュー!!', '食戟のソーマ'],\n",
       " 9: ['かいけつゾロリ', 'こびと', '弱虫ペダル', '忍たま乱太郎', '遊☆戯☆王', '黒子のバスケ'],\n",
       " 10: ['僕のヒーローアカデミア'],\n",
       " 11: ['イナズマイレブン',\n",
       "  'ゲゲゲの鬼太郎',\n",
       "  'タイムボカン',\n",
       "  'ピングー',\n",
       "  'メジャー',\n",
       "  '妖怪ウォッチ',\n",
       "  '犬夜叉',\n",
       "  '美少女戦士セーラームーン',\n",
       "  '鉄腕アトム'],\n",
       " 12: ['ガンダム', 'ケロロ軍曹', 'デジモンアドベンチャー', 'ベイブレード', '聖闘士星矢'],\n",
       " 13: ['しまじろう'],\n",
       " 14: ['鷹の爪'],\n",
       " 15: ['アイカツ', 'キン肉マン'],\n",
       " 17: ['LEGO', 'プリティーシリーズ'],\n",
       " 18: ['テニスの王子様'],\n",
       " 19: ['いないいないばあっ！', 'こちら葛飾区亀有公園前派出所'],\n",
       " 20: ['トムとジェリー'],\n",
       " 26: ['セサミ'],\n",
       " 31: ['ドラゴンボール'],\n",
       " 33: ['ルパン3世'],\n",
       " 34: ['ポケットモンスター'],\n",
       " 37: ['おかあさんといっしょ'],\n",
       " 38: ['ウルトラマン'],\n",
       " 39: ['NARUTO'],\n",
       " 41: ['きかんしゃトーマス'],\n",
       " 42: ['プリキュア'],\n",
       " 50: ['コナン'],\n",
       " 57: ['アンパンマン'],\n",
       " 64: ['スーパー戦隊'],\n",
       " 69: ['仮面ライダー'],\n",
       " 75: ['ワンピース'],\n",
       " 92: ['ハローキティ']}"
      ]
     },
     "execution_count": 16,
     "metadata": {},
     "output_type": "execute_result"
    }
   ],
   "source": [
    "{k:v for k, v in sorted(cnt_dict.items(), key=operator.itemgetter(0), reverse=False)}"
   ]
  },
  {
   "cell_type": "markdown",
   "metadata": {},
   "source": [
    "## draw figs"
   ]
  },
  {
   "cell_type": "code",
   "execution_count": 17,
   "metadata": {},
   "outputs": [
    {
     "data": {
      "text/plain": [
       "Text(0, 0.5, 'nb of characters')"
      ]
     },
     "execution_count": 17,
     "metadata": {},
     "output_type": "execute_result"
    },
    {
     "data": {
      "image/png": "[encoded data removed]",
      "text/plain": [
       "<Figure size 432x288 with 1 Axes>"
      ]
     },
     "metadata": {
      "needs_background": "light"
     },
     "output_type": "display_data"
    }
   ],
   "source": [
    "vc = pdf['キャラクター名'].value_counts().value_counts()   \n",
    "# sort by index and plot\n",
    "vc.sort_index().plot(xlim=(1,100),ylim=(1,100))\n",
    "plt.xlabel('nb of SIDs')  # set text for x-axis\n",
    "plt.ylabel('nb of characters')  # set text for y-axis"
   ]
  },
  {
   "cell_type": "markdown",
   "metadata": {},
   "source": [
    "# make fake training data - 200 random"
   ]
  },
  {
   "cell_type": "code",
   "execution_count": 18,
   "metadata": {},
   "outputs": [],
   "source": [
    "import random"
   ]
  },
  {
   "cell_type": "code",
   "execution_count": 18,
   "metadata": {},
   "outputs": [
    {
     "data": {
      "text/plain": [
       "['SID0003144', 'SID0029042', 'SID0053510']"
      ]
     },
     "execution_count": 18,
     "metadata": {},
     "output_type": "execute_result"
    }
   ],
   "source": [
    "sid_list = list(pdf['作品公開コード'])\n",
    "sid_list[:3]"
   ]
  },
  {
   "cell_type": "code",
   "execution_count": 32,
   "metadata": {},
   "outputs": [],
   "source": [
    "# fans of NARUTO, fans of アンパン, fans of 妖怪ウォッチ, fans of kitty\n",
    "\n",
    "# userid,item,rating\n",
    "with open(\"fake_kids_user_sakuhin_score_200.csv\", \"w\") as w:\n",
    "    w.write(\"userid,item,rating\\n\")\n",
    "    for sid_name in ['アンパンマン', '妖怪ウォッチ', 'NARUTO', 'ハローキティ']:\n",
    "        for sid in character_sids_dict[sid_name][:7]:\n",
    "            w.write(f'fan_{sid_name},{sid},1\\n')\n",
    "\n",
    "# fan_naruto, fan_anpan, fan_watch,  fan_kitty"
   ]
  },
  {
   "cell_type": "code",
   "execution_count": 33,
   "metadata": {},
   "outputs": [],
   "source": [
    "# 200 users, random pick 7 作品 from sid_list\n",
    "with open(\"fake_kids_user_sakuhin_score_200.csv\", \"a\") as a:\n",
    "    for i in range(200):  # 200 fake users\n",
    "        for j in range(7):  # 7 fake data\n",
    "            a.write(f\"fake_user_{i},{sid_list[random.randint(0, len(sid_list)-1)]},1\\n\")"
   ]
  },
  {
   "cell_type": "code",
   "execution_count": null,
   "metadata": {},
   "outputs": [],
   "source": []
  },
  {
   "cell_type": "markdown",
   "metadata": {},
   "source": [
    "# make fake training data - fan + real data"
   ]
  },
  {
   "cell_type": "code",
   "execution_count": 19,
   "metadata": {},
   "outputs": [],
   "source": [
    "# try different weights\n",
    "with open(\"user_sakuhin_score.csv\", \"a\") as w:\n",
    "    for sid_name in ['アンパンマン', '妖怪ウォッチ', 'NARUTO', 'ハローキティ', 'ドラゴンボール']:\n",
    "        for sid in character_sids_dict[sid_name][:7]:\n",
    "            w.write(f'fan_{sid_name},{sid},3\\n')\n",
    "\n",
    "# fan_naruto, fan_anpan, fan_watch,  fan_kitty"
   ]
  },
  {
   "cell_type": "markdown",
   "metadata": {},
   "source": [
    "# make fake training data - fan + real data kids only"
   ]
  },
  {
   "cell_type": "code",
   "execution_count": 38,
   "metadata": {},
   "outputs": [],
   "source": [
    "kids_sid_set = set(pdf['作品公開コード'])"
   ]
  },
  {
   "cell_type": "code",
   "execution_count": 41,
   "metadata": {},
   "outputs": [],
   "source": [
    "with open(\"fake_kids_only_user_sakuhin_score.csv\", \"a\") as w:\n",
    "    w.write(\"userid,item,rating\\n\")\n",
    "    for line in e_reading(\"fake_kids_user_sakuhin_score.csv\", \"r\"):\n",
    "        arr = line.rstrip().split(',')\n",
    "        if arr[1] in kids_sid_set:\n",
    "            w.write(line)"
   ]
  },
  {
   "cell_type": "code",
   "execution_count": null,
   "metadata": {},
   "outputs": [],
   "source": []
  },
  {
   "cell_type": "code",
   "execution_count": null,
   "metadata": {},
   "outputs": [],
   "source": []
  },
  {
   "cell_type": "code",
   "execution_count": null,
   "metadata": {},
   "outputs": [],
   "source": []
  },
  {
   "cell_type": "code",
   "execution_count": null,
   "metadata": {},
   "outputs": [],
   "source": []
  },
  {
   "cell_type": "code",
   "execution_count": null,
   "metadata": {},
   "outputs": [],
   "source": []
  },
  {
   "cell_type": "code",
   "execution_count": null,
   "metadata": {},
   "outputs": [],
   "source": []
  },
  {
   "cell_type": "code",
   "execution_count": null,
   "metadata": {},
   "outputs": [],
   "source": []
  },
  {
   "cell_type": "code",
   "execution_count": null,
   "metadata": {},
   "outputs": [],
   "source": []
  },
  {
   "cell_type": "code",
   "execution_count": 37,
   "metadata": {},
   "outputs": [],
   "source": [
    "def e_reading(input_path, with_header=True, header_format=None):\n",
    "    \"\"\"\n",
    "    yield one line at once til go through entire file,\n",
    "\n",
    "    & check the header_format\n",
    "    \"\"\"\n",
    "    with open(input_path, 'r') as r:\n",
    "        if with_header:\n",
    "            header = r.readline().rstrip()\n",
    "            if header_format:\n",
    "                assert header == header_format, f\"Header Format is WRONG\"\n",
    "        while True:\n",
    "            line = r.readline()\n",
    "            if line:\n",
    "                yield line\n",
    "            else:\n",
    "                break"
   ]
  },
  {
   "cell_type": "code",
   "execution_count": null,
   "metadata": {},
   "outputs": [],
   "source": []
  }
 ],
 "metadata": {
  "kernelspec": {
   "display_name": "jj",
   "language": "python",
   "name": "jj"
  },
  "language_info": {
   "codemirror_mode": {
    "name": "ipython",
    "version": 3
   },
   "file_extension": ".py",
   "mimetype": "text/x-python",
   "name": "python",
   "nbconvert_exporter": "python",
   "pygments_lexer": "ipython3",
   "version": "3.6.13"
  }
 },
 "nbformat": 4,
 "nbformat_minor": 4
}
