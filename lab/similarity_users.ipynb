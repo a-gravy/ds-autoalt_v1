{
 "cells": [
  {
   "cell_type": "code",
   "execution_count": 1,
   "id": "d9c74543",
   "metadata": {},
   "outputs": [],
   "source": [
    "import os, logging\n",
    "from tqdm import tqdm\n",
    "import csv\n",
    "import datetime\n",
    "from dscollaborative.recommender import ImplicitModel\n",
    "from numpy import dot\n",
    "from numpy.linalg import norm\n",
    "import numpy as np\n",
    "import sklearn.metrics.pairwise as pairwise\n",
    "from scipy.sparse import lil_matrix\n",
    "import sklearn.preprocessing as pp\n",
    "import pickle"
   ]
  },
  {
   "cell_type": "markdown",
   "id": "0da5abb3",
   "metadata": {},
   "source": [
    "## make lil of (user, item) reco matrix"
   ]
  },
  {
   "cell_type": "code",
   "execution_count": 3,
   "id": "ac3fc904",
   "metadata": {},
   "outputs": [
    {
     "name": "stdout",
     "output_type": "stream",
     "text": [
      "2022-07-14 17:51:20,226 - dscollaborative.recommender - INFO - <dscollaborative.recommender.ImplicitModel object at 0x7faf59051160>\n"
     ]
    }
   ],
   "source": [
    "model = ImplicitModel()\n",
    "model.load_model(\"/Users/s-chuenkai/PycharmProjects/check/als_model.latest\")"
   ]
  },
  {
   "cell_type": "code",
   "execution_count": 4,
   "id": "39a09b26",
   "metadata": {},
   "outputs": [],
   "source": [
    "item2id = model.model.user_item_matrix.item2id\n",
    "user2id = model.model.user_item_matrix.user2id\n",
    "del model"
   ]
  },
  {
   "cell_type": "code",
   "execution_count": 6,
   "id": "0304005a",
   "metadata": {},
   "outputs": [
    {
     "data": {
      "text/plain": [
       "(2545410, 33900)"
      ]
     },
     "execution_count": 6,
     "metadata": {},
     "output_type": "execute_result"
    }
   ],
   "source": [
    "# reco_matrix = np.zeros((len(user2id), len(item2id)))\n",
    "# reco_matrix.shape\n",
    "# reco_matrix.size*reco_matrix.itemsize = 690315MB\n",
    "# too big using np array"
   ]
  },
  {
   "cell_type": "code",
   "execution_count": 23,
   "id": "e8b13295",
   "metadata": {},
   "outputs": [
    {
     "data": {
      "text/plain": [
       "<2545410x33900 sparse matrix of type '<class 'numpy.int64'>'\n",
       "\twith 0 stored elements in List of Lists format>"
      ]
     },
     "execution_count": 23,
     "metadata": {},
     "output_type": "execute_result"
    }
   ],
   "source": [
    "lil = lil_matrix((len(user2id), len(item2id)), dtype=int)\n",
    "lil"
   ]
  },
  {
   "cell_type": "code",
   "execution_count": 28,
   "id": "47cbcf82",
   "metadata": {},
   "outputs": [
    {
     "name": "stderr",
     "output_type": "stream",
     "text": [
      "56866249it [1:37:22, 9732.56it/s] \n"
     ]
    }
   ],
   "source": [
    "with open(\"/Users/s-chuenkai/PycharmProjects/check/autoalt_ippan_features_2022-07-01.csv\", \"r\") as csv_path:\n",
    "    reader = csv.DictReader(csv_path)\n",
    "    for line in tqdm(reader):\n",
    "        if line[\"user_multi_account_id\"] not in [\"non-logged-in-coldstart\", \"coldstart\"]:\n",
    "            sids = line[\"sakuhin_codes\"].split(\"|\")\n",
    "            user_idx = user2id.get(line['user_multi_account_id'], None)\n",
    "            sid_indices = [item2id[x] for x in sids if x in item2id]\n",
    "            if not user_idx or not sid_indices:\n",
    "                continue\n",
    "            lil[user_idx, sid_indices] = 1"
   ]
  },
  {
   "cell_type": "code",
   "execution_count": 29,
   "id": "c0990b23",
   "metadata": {},
   "outputs": [
    {
     "data": {
      "text/plain": [
       "<2545410x33900 sparse matrix of type '<class 'numpy.int64'>'\n",
       "\twith 580246043 stored elements in List of Lists format>"
      ]
     },
     "execution_count": 29,
     "metadata": {},
     "output_type": "execute_result"
    }
   ],
   "source": [
    "lil"
   ]
  },
  {
   "cell_type": "markdown",
   "id": "02dabe8a",
   "metadata": {},
   "source": [
    "## save & load lil matrix"
   ]
  },
  {
   "cell_type": "code",
   "execution_count": 34,
   "id": "25bc9d08",
   "metadata": {},
   "outputs": [],
   "source": [
    "with open(\"lil.pk\", \"wb\") as fp:   #Pickling\n",
    "    pickle.dump(lil, fp)"
   ]
  },
  {
   "cell_type": "code",
   "execution_count": 3,
   "id": "65c321db",
   "metadata": {},
   "outputs": [
    {
     "data": {
      "text/plain": [
       "<2545410x33900 sparse matrix of type '<class 'numpy.int64'>'\n",
       "\twith 580246043 stored elements in List of Lists format>"
      ]
     },
     "execution_count": 3,
     "metadata": {},
     "output_type": "execute_result"
    }
   ],
   "source": [
    "with open(\"lil.pk\", \"rb\") as fp:   # Unpickling\n",
    "    lil = pickle.load(fp)\n",
    "lil"
   ]
  },
  {
   "cell_type": "markdown",
   "id": "544f5297",
   "metadata": {},
   "source": [
    "## calculation"
   ]
  },
  {
   "cell_type": "code",
   "execution_count": 7,
   "id": "eecc4484",
   "metadata": {},
   "outputs": [],
   "source": [
    "# to csc for fast columns slicing\n",
    "csc = lil.tocsc()"
   ]
  },
  {
   "cell_type": "code",
   "execution_count": 23,
   "id": "7ad73581",
   "metadata": {},
   "outputs": [
    {
     "name": "stdout",
     "output_type": "stream",
     "text": [
      "CPU times: user 665 µs, sys: 1.72 ms, total: 2.38 ms\n",
      "Wall time: 3.87 ms\n"
     ]
    },
    {
     "data": {
      "text/plain": [
       "<2545410x1 sparse matrix of type '<class 'numpy.int64'>'\n",
       "\twith 0 stored elements in Compressed Sparse Column format>"
      ]
     },
     "execution_count": 23,
     "metadata": {},
     "output_type": "execute_result"
    }
   ],
   "source": [
    "%time csc[:,68]"
   ]
  },
  {
   "cell_type": "code",
   "execution_count": 4,
   "id": "a466117f",
   "metadata": {},
   "outputs": [],
   "source": [
    "def sparse_mat_cos_sim(mat):\n",
    "    # mat should be csc\n",
    "    col_normed_mat = pp.normalize(mat, axis=0)\n",
    "    s = (col_normed_mat.T * col_normed_mat).toarray()\n",
    "    div = (2*(s.shape[0]*s.shape[0]-s.shape[0])/2)\n",
    "    if div <= 0.00001:\n",
    "        return 0\n",
    "    else:\n",
    "        return (np.sum(s) - s.shape[0])/div"
   ]
  },
  {
   "cell_type": "code",
   "execution_count": 11,
   "id": "63b3ed1d",
   "metadata": {},
   "outputs": [
    {
     "name": "stderr",
     "output_type": "stream",
     "text": [
      "  0%|                                                                                                      | 2/2545410 [00:13<4673:43:34,  6.61s/it]"
     ]
    },
    {
     "name": "stdout",
     "output_type": "stream",
     "text": [
      "0.3533333908770216\n"
     ]
    },
    {
     "name": "stderr",
     "output_type": "stream",
     "text": [
      "\r",
      "  0%|                                                                                                      | 3/2545410 [00:28<7370:50:50, 10.42s/it]"
     ]
    },
    {
     "name": "stdout",
     "output_type": "stream",
     "text": [
      "0.20508226694815807\n"
     ]
    },
    {
     "name": "stderr",
     "output_type": "stream",
     "text": [
      "\r",
      "  0%|                                                                                                     | 4/2545410 [00:52<10926:16:58, 15.45s/it]"
     ]
    },
    {
     "name": "stdout",
     "output_type": "stream",
     "text": [
      "0.2451472152678092\n"
     ]
    },
    {
     "name": "stderr",
     "output_type": "stream",
     "text": [
      "\r",
      "  0%|                                                                                                     | 5/2545410 [01:29<16021:45:41, 22.66s/it]"
     ]
    },
    {
     "name": "stdout",
     "output_type": "stream",
     "text": [
      "0.23544342721086117\n"
     ]
    },
    {
     "name": "stderr",
     "output_type": "stream",
     "text": [
      "\r",
      "  0%|                                                                                                     | 6/2545410 [01:58<17553:29:35, 24.83s/it]"
     ]
    },
    {
     "name": "stdout",
     "output_type": "stream",
     "text": [
      "0.23279109176494917\n"
     ]
    },
    {
     "name": "stderr",
     "output_type": "stream",
     "text": [
      "\r",
      "  0%|                                                                                                     | 7/2545410 [02:15<15928:15:43, 22.53s/it]"
     ]
    },
    {
     "name": "stdout",
     "output_type": "stream",
     "text": [
      "0.30547864736423025\n"
     ]
    },
    {
     "name": "stderr",
     "output_type": "stream",
     "text": [
      "\r",
      "  0%|                                                                                                     | 8/2545410 [02:40<16439:34:48, 23.25s/it]"
     ]
    },
    {
     "name": "stdout",
     "output_type": "stream",
     "text": [
      "0.2129561789556611\n"
     ]
    },
    {
     "name": "stderr",
     "output_type": "stream",
     "text": [
      "\r",
      "  0%|                                                                                                     | 9/2545410 [02:58<15279:51:35, 21.61s/it]"
     ]
    },
    {
     "name": "stdout",
     "output_type": "stream",
     "text": [
      "0.21845678597845847\n"
     ]
    },
    {
     "name": "stderr",
     "output_type": "stream",
     "text": [
      "\r",
      "  0%|                                                                                                     | 11/2545410 [03:07<9624:21:06, 13.61s/it]"
     ]
    },
    {
     "name": "stdout",
     "output_type": "stream",
     "text": [
      "0.14921607678170812\n"
     ]
    },
    {
     "name": "stderr",
     "output_type": "stream",
     "text": [
      "\r",
      "  0%|                                                                                                    | 11/2545410 [03:27<13324:41:59, 18.85s/it]"
     ]
    },
    {
     "name": "stdout",
     "output_type": "stream",
     "text": [
      "0.24632495433003798\n",
      "2.4042300354788955 - 10\n"
     ]
    },
    {
     "name": "stderr",
     "output_type": "stream",
     "text": [
      "\n"
     ]
    }
   ],
   "source": [
    "cos_sim_sum = 0.0\n",
    "cos_sim_cnt = 0\n",
    "for row in tqdm(lil.rows):\n",
    "    if row:\n",
    "        sim = sparse_mat_cos_sim(csc[:, row])\n",
    "        cos_sim_sum += sim\n",
    "        cos_sim_cnt += 1\n",
    "        print(sim)\n",
    "        if cos_sim_cnt >= 10:\n",
    "            break\n",
    "\n",
    "print(f\"{cos_sim_sum} - {cos_sim_cnt}\")"
   ]
  },
  {
   "cell_type": "code",
   "execution_count": 13,
   "id": "fee713d6",
   "metadata": {},
   "outputs": [],
   "source": [
    "# ~15sec/per users -> 9583 hr to run for 2.3 million users...  "
   ]
  }
 ],
 "metadata": {
  "kernelspec": {
   "display_name": "ds",
   "language": "python",
   "name": "ds"
  },
  "language_info": {
   "codemirror_mode": {
    "name": "ipython",
    "version": 3
   },
   "file_extension": ".py",
   "mimetype": "text/x-python",
   "name": "python",
   "nbconvert_exporter": "python",
   "pygments_lexer": "ipython3",
   "version": "3.8.13"
  }
 },
 "nbformat": 4,
 "nbformat_minor": 5
}
